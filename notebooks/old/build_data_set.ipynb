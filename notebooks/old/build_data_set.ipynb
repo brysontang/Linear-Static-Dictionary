{
 "cells": [
  {
   "cell_type": "code",
   "execution_count": 1,
   "metadata": {},
   "outputs": [
    {
     "name": "stdout",
     "output_type": "stream",
     "text": [
      "Batch X shape: torch.Size([10, 10])\n"
     ]
    },
    {
     "ename": "IndexError",
     "evalue": "index 1 is out of bounds for dimension 0 with size 1",
     "output_type": "error",
     "traceback": [
      "\u001b[0;31m---------------------------------------------------------------------------\u001b[0m",
      "\u001b[0;31mIndexError\u001b[0m                                Traceback (most recent call last)",
      "Cell \u001b[0;32mIn[1], line 65\u001b[0m\n\u001b[1;32m     63\u001b[0m \u001b[38;5;28;01mfor\u001b[39;00m batch_X, batch_Y \u001b[38;5;129;01min\u001b[39;00m train_loader:\n\u001b[1;32m     64\u001b[0m     \u001b[38;5;28mprint\u001b[39m(\u001b[38;5;124m\"\u001b[39m\u001b[38;5;124mBatch X shape:\u001b[39m\u001b[38;5;124m\"\u001b[39m, batch_X[\u001b[38;5;241m0\u001b[39m][\u001b[38;5;241m0\u001b[39m]\u001b[38;5;241m.\u001b[39mshape)  \u001b[38;5;66;03m# Shape of test_input\u001b[39;00m\n\u001b[0;32m---> 65\u001b[0m     \u001b[38;5;28mprint\u001b[39m(\u001b[38;5;124m\"\u001b[39m\u001b[38;5;124mBatch X train data length:\u001b[39m\u001b[38;5;124m\"\u001b[39m, \u001b[38;5;28mlen\u001b[39m(\u001b[43mbatch_X\u001b[49m\u001b[43m[\u001b[49m\u001b[38;5;241;43m0\u001b[39;49m\u001b[43m]\u001b[49m\u001b[43m[\u001b[49m\u001b[38;5;241;43m1\u001b[39;49m\u001b[43m]\u001b[49m))  \u001b[38;5;66;03m# Number of train examples\u001b[39;00m\n\u001b[1;32m     66\u001b[0m     \u001b[38;5;28mprint\u001b[39m(\u001b[38;5;124m\"\u001b[39m\u001b[38;5;124mBatch Y shape:\u001b[39m\u001b[38;5;124m\"\u001b[39m, batch_Y\u001b[38;5;241m.\u001b[39mshape)  \u001b[38;5;66;03m# Shape of test_output\u001b[39;00m\n\u001b[1;32m     67\u001b[0m     \u001b[38;5;28;01mbreak\u001b[39;00m  \u001b[38;5;66;03m# Just print the first batch\u001b[39;00m\n",
      "\u001b[0;31mIndexError\u001b[0m: index 1 is out of bounds for dimension 0 with size 1"
     ]
    }
   ],
   "source": [
    "import json\n",
    "import os\n",
    "import torch\n",
    "from torch.utils.data import Dataset, DataLoader\n",
    "\n",
    "class PuzzleDataset(Dataset):\n",
    "    def __init__(self, X, Y):\n",
    "        self.X = X\n",
    "        self.Y = Y\n",
    "\n",
    "    def __len__(self):\n",
    "        return len(self.X)\n",
    "\n",
    "    def __getitem__(self, idx):\n",
    "        return self.X[idx], self.Y[idx]\n",
    "\n",
    "def load_puzzle_data(data_folder):\n",
    "    X = []\n",
    "    Y = []\n",
    "\n",
    "    for filename in os.listdir(data_folder):\n",
    "        if filename.endswith('.json'):\n",
    "            file_path = os.path.join(data_folder, filename)\n",
    "            with open(file_path, 'r') as f:\n",
    "                data = json.load(f)\n",
    "            \n",
    "            # Process test data\n",
    "            test_input = torch.tensor(data['test'][0]['input'], dtype=torch.float32)\n",
    "            test_output = torch.tensor(data['test'][0]['output'], dtype=torch.float32)\n",
    "            \n",
    "            # Process train data\n",
    "            train_data = []\n",
    "            for item in data['train']:\n",
    "                input_tensor = torch.tensor(item['input'], dtype=torch.float32)\n",
    "                output_tensor = torch.tensor(item['output'], dtype=torch.float32)\n",
    "                train_data.append([input_tensor, output_tensor])\n",
    "            \n",
    "            # Create X and Y\n",
    "            X.append([test_input, train_data])\n",
    "            Y.append(test_output)\n",
    "\n",
    "    return X, Y\n",
    "\n",
    "def create_dataloaders(X, Y, batch_size=1, train_split=0.8):\n",
    "    dataset = PuzzleDataset(X, Y)\n",
    "    dataset_size = len(dataset)\n",
    "    train_size = int(train_split * dataset_size)\n",
    "    test_size = dataset_size - train_size\n",
    "    \n",
    "    train_dataset, test_dataset = torch.utils.data.random_split(dataset, [train_size, test_size])\n",
    "    \n",
    "    train_loader = DataLoader(train_dataset, batch_size=batch_size, shuffle=True)\n",
    "    test_loader = DataLoader(test_dataset, batch_size=batch_size, shuffle=False)\n",
    "    \n",
    "    return train_loader, test_loader\n",
    "\n",
    "# Usage\n",
    "data_folder = os.path.join('..', 'data', 'training')\n",
    "X, Y = load_puzzle_data(data_folder)\n",
    "train_loader, test_loader = create_dataloaders(X, Y)\n",
    "\n",
    "# Example of iterating through the data\n",
    "for batch_X, batch_Y in train_loader:\n",
    "    print(\"Batch X shape:\", batch_X[0][0].shape)  # Shape of test_input\n",
    "    print(\"Batch X train data length:\", len(batch_X[0][1]))  # Number of train examples\n",
    "    print(\"Batch Y shape:\", batch_Y.shape)  # Shape of test_output\n",
    "    break  # Just print the first batch"
   ]
  },
  {
   "cell_type": "code",
   "execution_count": null,
   "metadata": {},
   "outputs": [],
   "source": []
  }
 ],
 "metadata": {
  "kernelspec": {
   "display_name": "myenv",
   "language": "python",
   "name": "python3"
  },
  "language_info": {
   "codemirror_mode": {
    "name": "ipython",
    "version": 3
   },
   "file_extension": ".py",
   "mimetype": "text/x-python",
   "name": "python",
   "nbconvert_exporter": "python",
   "pygments_lexer": "ipython3",
   "version": "3.8.10"
  }
 },
 "nbformat": 4,
 "nbformat_minor": 2
}
