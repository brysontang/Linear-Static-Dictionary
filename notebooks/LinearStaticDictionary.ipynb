{
 "cells": [
  {
   "cell_type": "code",
   "execution_count": 1,
   "metadata": {},
   "outputs": [],
   "source": [
    "import json\n",
    "import os\n",
    "\n",
    "import numpy as np\n",
    "import matplotlib.pyplot as plt\n",
    "\n",
    "import torch\n",
    "import torch.nn as nn\n",
    "import torch.optim as optim\n",
    "from torch.utils.data import TensorDataset, DataLoader"
   ]
  },
  {
   "cell_type": "code",
   "execution_count": 2,
   "metadata": {},
   "outputs": [],
   "source": [
    "data_path = os.path.join('..', 'data', 'training', '0a938d79.json')\n",
    "\n",
    "with open(data_path, 'r') as f:\n",
    "  data = json.load(f)"
   ]
  },
  {
   "cell_type": "code",
   "execution_count": 3,
   "metadata": {},
   "outputs": [],
   "source": [
    "def pad_data_to_30x30(data):\n",
    "    # Convert input to numpy array if it's not already\n",
    "    data = np.array(data)\n",
    "    \n",
    "    # Initialize a 30x30 array filled with -1\n",
    "    padded_data = np.full((30, 30), -1, dtype=int)\n",
    "    \n",
    "    # Copy data to padded_data\n",
    "    rows, cols = data.shape\n",
    "    padded_data[:rows, :cols] = data[:30, :30]\n",
    "    \n",
    "    return padded_data\n",
    "\n",
    "def visualize_grid(data):\n",
    "    if not isinstance(data, np.ndarray):\n",
    "        data = np.array(data)\n",
    "    \n",
    "    if data.ndim != 2:\n",
    "        raise ValueError(\"Input must be a 2D array\")\n",
    "    \n",
    "    fig, ax = plt.subplots(figsize=(10, 10))\n",
    "    fig.suptitle(\"Visualization of 2D Padded Data\", fontsize=16)\n",
    "    \n",
    "    # Create a custom colormap\n",
    "    cmap = plt.cm.get_cmap('tab10')\n",
    "    colors = [cmap(i) for i in range(10)]\n",
    "    custom_cmap = plt.cm.colors.ListedColormap(['lightgrey'] + colors + ['darkred'])\n",
    "    \n",
    "    # Create bounds and norm for the colormap\n",
    "    bounds = list(range(-2, 11))  # This creates [-2, -1, 0, 1, ..., 10]\n",
    "    norm = plt.cm.colors.BoundaryNorm(bounds, custom_cmap.N)\n",
    "    \n",
    "    im = ax.imshow(data, cmap=custom_cmap, norm=norm, interpolation='nearest')\n",
    "    ax.set_title(\"Padded Grid\")\n",
    "    \n",
    "    # Add grid lines\n",
    "    ax.set_xticks(np.arange(-0.5, 30, 1), minor=True)\n",
    "    ax.set_yticks(np.arange(-0.5, 30, 1), minor=True)\n",
    "    ax.grid(which=\"minor\", color=\"black\", linestyle='-', linewidth=0.5)\n",
    "    \n",
    "    # Remove axis ticks\n",
    "    ax.set_xticks([])\n",
    "    ax.set_yticks([])\n",
    "    \n",
    "    # Add a colorbar\n",
    "    cbar = fig.colorbar(im, ax=ax, shrink=0.8)\n",
    "    cbar.set_ticks(range(-1, 11))\n",
    "    cbar.set_ticklabels(['-1 (pad)'] + list(range(10)) + ['10+'])\n",
    "    \n",
    "    plt.tight_layout()\n",
    "    plt.show()\n",
    "\n",
    "\n",
    "def encode_grid(grid):\n",
    "    \"\"\"Convert a 2D grid to a 11-channel 3D tensor.\"\"\"\n",
    "    encoded = np.zeros((11, 30, 30), dtype=np.float32)\n",
    "    for i in range(30):\n",
    "        for j in range(30):\n",
    "            value = grid[i, j]\n",
    "            if -1 <= value <= 9:\n",
    "                encoded[value + 1, i, j] = 1\n",
    "    return encoded"
   ]
  },
  {
   "cell_type": "code",
   "execution_count": 4,
   "metadata": {},
   "outputs": [],
   "source": [
    "class ResidualBlock(nn.Module):\n",
    "    def __init__(self, channels):\n",
    "        super(ResidualBlock, self).__init__()\n",
    "        self.conv1 = nn.Conv2d(channels, channels, kernel_size=3, padding=1)\n",
    "        self.bn1 = nn.BatchNorm2d(channels)\n",
    "        self.conv2 = nn.Conv2d(channels, channels, kernel_size=3, padding=1)\n",
    "        self.bn2 = nn.BatchNorm2d(channels)\n",
    "        self.relu = nn.ReLU()\n",
    "\n",
    "    def forward(self, x):\n",
    "        residual = x\n",
    "        out = self.relu(self.bn1(self.conv1(x)))\n",
    "        out = self.bn2(self.conv2(out))\n",
    "        out += residual\n",
    "        return self.relu(out)\n",
    "\n",
    "class EnhancedMultiChannelCNN(nn.Module):\n",
    "    def __init__(self, num_residual_blocks=3):\n",
    "        super(EnhancedMultiChannelCNN, self).__init__()\n",
    "        self.conv1 = nn.Conv2d(11, 64, kernel_size=3, padding=1)\n",
    "        self.bn1 = nn.BatchNorm2d(64)\n",
    "        self.relu = nn.ReLU()\n",
    "        \n",
    "        self.residual_blocks = nn.Sequential(\n",
    "            *[ResidualBlock(64) for _ in range(num_residual_blocks)]\n",
    "        )\n",
    "        \n",
    "        self.conv_final = nn.Conv2d(64, 11, kernel_size=3, padding=1)\n",
    "\n",
    "    def forward(self, x):\n",
    "        x = self.relu(self.bn1(self.conv1(x)))\n",
    "        x = self.residual_blocks(x)\n",
    "        x = self.conv_final(x)\n",
    "        return x"
   ]
  },
  {
   "cell_type": "code",
   "execution_count": 5,
   "metadata": {},
   "outputs": [
    {
     "name": "stderr",
     "output_type": "stream",
     "text": [
      "<ipython-input-5-900f5a4509ec>:1: UserWarning: Creating a tensor from a list of numpy.ndarrays is extremely slow. Please consider converting the list to a single numpy.ndarray with numpy.array() before converting to a tensor. (Triggered internally at /Users/runner/work/pytorch/pytorch/pytorch/torch/csrc/utils/tensor_new.cpp:281.)\n",
      "  X = torch.tensor([encode_grid(pad_data_to_30x30(ex['input'])) for ex in data['train']])\n"
     ]
    }
   ],
   "source": [
    "X = torch.tensor([encode_grid(pad_data_to_30x30(ex['input'])) for ex in data['train']])\n",
    "Y = torch.tensor([encode_grid(pad_data_to_30x30(ex['output'])) for ex in data['train']])"
   ]
  },
  {
   "cell_type": "code",
   "execution_count": 6,
   "metadata": {},
   "outputs": [],
   "source": [
    "dataset = TensorDataset(X, Y)\n",
    "dataloader = DataLoader(dataset, batch_size=32, shuffle=True)"
   ]
  },
  {
   "cell_type": "code",
   "execution_count": 7,
   "metadata": {},
   "outputs": [],
   "source": [
    "model = EnhancedMultiChannelCNN()\n",
    "criterion = nn.CrossEntropyLoss()\n",
    "optimizer = optim.Adam(model.parameters())"
   ]
  },
  {
   "cell_type": "code",
   "execution_count": 8,
   "metadata": {},
   "outputs": [
    {
     "name": "stdout",
     "output_type": "stream",
     "text": [
      "Epoch [1000/10000], Loss: 0.0009\n",
      "Epoch [2000/10000], Loss: 0.0006\n",
      "Epoch [3000/10000], Loss: 0.0005\n"
     ]
    }
   ],
   "source": [
    "num_epochs = 10000\n",
    "for epoch in range(num_epochs):\n",
    "    for inputs, targets in dataloader:\n",
    "        optimizer.zero_grad()\n",
    "        outputs = model(inputs)\n",
    "        loss = criterion(outputs, targets.argmax(dim=1))\n",
    "        loss.backward()\n",
    "        optimizer.step()\n",
    "    \n",
    "    if (epoch + 1) % 1000 == 0:\n",
    "        print(f'Epoch [{epoch+1}/{num_epochs}], Loss: {loss.item():.4f}')"
   ]
  },
  {
   "cell_type": "code",
   "execution_count": null,
   "metadata": {},
   "outputs": [],
   "source": [
    "# Save the trained model\n",
    "torch.save(model.state_dict(), 'linear_static_dictionary.pth')"
   ]
  },
  {
   "cell_type": "code",
   "execution_count": 19,
   "metadata": {},
   "outputs": [],
   "source": [
    "def predict(input_data):\n",
    "    model.eval()\n",
    "    with torch.no_grad():\n",
    "        input_tensor = torch.tensor(encode_grid(pad_data_to_30x30(input_data))).unsqueeze(0)\n",
    "        output = model(input_tensor)\n",
    "        return output.argmax(dim=1).squeeze().numpy() - 1  # Convert back to [-1, 9] range\n",
    "    \n",
    "# Function to visualize prediction\n",
    "def visualize_prediction(input_data):\n",
    "    predicted_output = predict(input_data)\n",
    "    visualize_grid(predicted_output)\n",
    "\n",
    "def visualize_actual(data):\n",
    "    visualize_grid(pad_data_to_30x30(data['output']))\n",
    "    visualize_prediction(pad_data_to_30x30(data['input']))\n"
   ]
  },
  {
   "cell_type": "code",
   "execution_count": 42,
   "metadata": {},
   "outputs": [
    {
     "name": "stderr",
     "output_type": "stream",
     "text": [
      "/var/folders/0c/jz9xl1bn1l76cln4b1_92qcm0000gn/T/ipykernel_2606/3092285205.py:25: MatplotlibDeprecationWarning: The get_cmap function was deprecated in Matplotlib 3.7 and will be removed two minor releases later. Use ``matplotlib.colormaps[name]`` or ``matplotlib.colormaps.get_cmap(obj)`` instead.\n",
      "  cmap = plt.cm.get_cmap('tab10')\n"
     ]
    },
    {
     "data": {
      "image/png": "[encoded data removed]",
      "text/plain": [
       "<Figure size 1000x1000 with 2 Axes>"
      ]
     },
     "metadata": {},
     "output_type": "display_data"
    }
   ],
   "source": [
    "test_input = data['test'][0]['input']\n",
    "visualize_actual(data['test'][0])\n",
    "visualize_prediction(test_input)\n"
   ]
  },
  {
   "cell_type": "code",
   "execution_count": null,
   "metadata": {},
   "outputs": [],
   "source": []
  }
 ],
 "metadata": {
  "kernelspec": {
   "display_name": "myenv",
   "language": "python",
   "name": "python3"
  },
  "language_info": {
   "codemirror_mode": {
    "name": "ipython",
    "version": 3
   },
   "file_extension": ".py",
   "mimetype": "text/x-python",
   "name": "python",
   "nbconvert_exporter": "python",
   "pygments_lexer": "ipython3",
   "version": "3.8.20"
  }
 },
 "nbformat": 4,
 "nbformat_minor": 2
}
