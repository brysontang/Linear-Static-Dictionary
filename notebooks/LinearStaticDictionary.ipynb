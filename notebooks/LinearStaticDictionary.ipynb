{
 "cells": [
  {
   "cell_type": "code",
   "execution_count": 1,
   "metadata": {},
   "outputs": [],
   "source": [
    "# Automatically reload imported modules\n",
    "%load_ext autoreload\n",
    "%autoreload 2"
   ]
  },
  {
   "cell_type": "code",
   "execution_count": 2,
   "metadata": {},
   "outputs": [],
   "source": [
    "import json\n",
    "import os\n",
    "\n",
    "import numpy as np\n",
    "import matplotlib.pyplot as plt\n",
    "\n",
    "import torch\n",
    "from torch.utils.data import TensorDataset, DataLoader\n",
    "import torch.nn as nn\n",
    "\n",
    "import sys\n",
    "sys.path.append('..')  # Add parent directory to Python path\n",
    "from util.data_preprocessing import pad_data_to_30x30, encode_grid, augment_data\n",
    "from util.model import EnhancedMultiChannelCNN\n",
    "from util.training import train_model, train_memory\n",
    "from util.visualization import visualize_loss, visualize_memory, visualize_prediction, visualize_actual\n",
    "from util.model_utils import initialize_model, initialize_memory\n",
    "from util.data_loader import prepare_data, read_data"
   ]
  },
  {
   "cell_type": "code",
   "execution_count": 3,
   "metadata": {},
   "outputs": [],
   "source": [
    "device = torch.device(\"mps\" if torch.backends.mps.is_available() else \"cuda\" if torch.cuda.is_available() else \"cpu\")"
   ]
  },
  {
   "cell_type": "code",
   "execution_count": 34,
   "metadata": {},
   "outputs": [],
   "source": [
    "# Get list of all json files in data/training directory\n",
    "data_dir = '../data/training'\n",
    "json_files = [f for f in os.listdir(data_dir) if f.endswith('.json')]\n",
    "\n",
    "# Get file name based on index i\n",
    "i = 12  # Can be changed to select different files\n",
    "file_name = json_files[i]\n"
   ]
  },
  {
   "cell_type": "code",
   "execution_count": null,
   "metadata": {},
   "outputs": [],
   "source": [
    "file_name"
   ]
  },
  {
   "cell_type": "code",
   "execution_count": null,
   "metadata": {},
   "outputs": [],
   "source": [
    "def train(file_name, model, memory, criterion, epochs=1):\n",
    "  dataloader = prepare_data(file_name)\n",
    "\n",
    "  loss_history = []\n",
    "\n",
    "  for i in range(epochs):\n",
    "    loss_history.extend(train_memory(model, memory, dataloader, criterion))\n",
    "    loss_history.extend(train_model(model, memory, dataloader, criterion))\n",
    "\n",
    "  visualize_loss(loss_history)\n",
    "\n",
    "\n",
    "model, criterion = initialize_model()\n",
    "memory = initialize_memory()\n",
    "train(file_name, model, memory, criterion, epochs=10)"
   ]
  },
  {
   "cell_type": "code",
   "execution_count": null,
   "metadata": {},
   "outputs": [],
   "source": [
    "visualize_memory(memory)"
   ]
  },
  {
   "cell_type": "code",
   "execution_count": 41,
   "metadata": {},
   "outputs": [],
   "source": [
    "# Save the trained model\n",
    "torch.save(model.state_dict(), 'linear_static_dictionary.pth')"
   ]
  },
  {
   "cell_type": "code",
   "execution_count": null,
   "metadata": {},
   "outputs": [],
   "source": [
    "data = read_data(file_name)\n",
    "\n",
    "x_test = data['test'][0]\n",
    "visualize_actual(x_test)\n",
    "visualize_prediction(x_test['input'], model, memory)\n"
   ]
  }
 ],
 "metadata": {
  "kernelspec": {
   "display_name": "Python 3 (ipykernel)",
   "language": "python",
   "name": "python3"
  },
  "language_info": {
   "codemirror_mode": {
    "name": "ipython",
    "version": 3
   },
   "file_extension": ".py",
   "mimetype": "text/x-python",
   "name": "python",
   "nbconvert_exporter": "python",
   "pygments_lexer": "ipython3",
   "version": "3.12.4"
  }
 },
 "nbformat": 4,
 "nbformat_minor": 2
}
